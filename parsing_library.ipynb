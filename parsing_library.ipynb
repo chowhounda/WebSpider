{
 "cells": [
  {
   "cell_type": "code",
   "execution_count": null,
   "metadata": {
    "collapsed": true
   },
   "outputs": [],
   "source": [
    "# XPath\n",
    "# nodename 所有子节点\n",
    "# / 直接子节点\n",
    "# //子孙节点 \n",
    "# . 当前节点\n",
    "# ..当前节点的父节点 \n",
    "# @ 属性"
   ]
  },
  {
   "cell_type": "code",
   "execution_count": 19,
   "metadata": {
    "pycharm": {
     "name": "#%%\n"
    }
   },
   "outputs": [
    {
     "name": "stdout",
     "output_type": "stream",
     "text": [
      "<html><body><div>\n",
      "        <ul>\n",
      "            <li class=\"li item-0\" name=\"item\"><a href=\"link0.html\">first item</a></li>\n",
      "            <li class=\"item-1\"><a href=\"link1.html\">seccond item</a></li>\n",
      "            <li class=\"item-2\"><a href=\"link2.html\">third item</a></li>\n",
      "            <li class=\"item-3\"><a href=\"link3.html\">fourth item</a></li>\n",
      "            <li class=\"item-4\"><a href=\"link4.html\">fifth item</a></li>\n",
      "        </ul>\n",
      "    </div>\n",
      "</body></html>\n"
     ]
    }
   ],
   "source": [
    "# 实例\n",
    "from lxml import etree\n",
    "text = '''\n",
    "    <div>\n",
    "        <ul>\n",
    "            <li class=\"li item-0\" name=\"item\"><a href=\"link0.html\">first item</a></li>\n",
    "            <li class=\"item-1\"><a href=\"link1.html\">seccond item</a></li>\n",
    "            <li class=\"item-2\"><a href=\"link2.html\">third item</a></li>\n",
    "            <li class=\"item-3\"><a href=\"link3.html\">fourth item</a></li>\n",
    "            <li class=\"item-4\"><a href=\"link4.html\">fifth item</a></li>\n",
    "        </ul>\n",
    "    </div>\n",
    "'''\n",
    "html = etree.HTML(text)\n",
    "result = etree.tostring(html)\n",
    "print(result.decode('utf-8'))"
   ]
  },
  {
   "cell_type": "code",
   "execution_count": 20,
   "metadata": {
    "pycharm": {
     "name": "#%%\n"
    }
   },
   "outputs": [
    {
     "data": {
      "text/plain": [
       "[<Element html at 0x7f22883a5d70>,\n",
       " <Element body at 0x7f22884dbf00>,\n",
       " <Element div at 0x7f22884db960>,\n",
       " <Element ul at 0x7f22884dbeb0>,\n",
       " <Element li at 0x7f22884dbaf0>,\n",
       " <Element a at 0x7f22884db4b0>,\n",
       " <Element li at 0x7f22884db140>,\n",
       " <Element a at 0x7f22884db2d0>,\n",
       " <Element li at 0x7f22884dbb40>,\n",
       " <Element a at 0x7f22884dbbe0>,\n",
       " <Element li at 0x7f2288779f00>,\n",
       " <Element a at 0x7f2288779230>,\n",
       " <Element li at 0x7f2288779b90>,\n",
       " <Element a at 0x7f2288779cd0>]"
      ]
     },
     "execution_count": 20,
     "metadata": {},
     "output_type": "execute_result"
    }
   ],
   "source": [
    "# 所有的节点\n",
    "html.xpath('//*')"
   ]
  },
  {
   "cell_type": "code",
   "execution_count": 21,
   "metadata": {
    "pycharm": {
     "name": "#%%\n"
    }
   },
   "outputs": [
    {
     "data": {
      "text/plain": [
       "[<Element a at 0x7f22884db4b0>,\n",
       " <Element a at 0x7f22884db2d0>,\n",
       " <Element a at 0x7f22884dbbe0>,\n",
       " <Element a at 0x7f2288779230>,\n",
       " <Element a at 0x7f2288779cd0>]"
      ]
     },
     "execution_count": 21,
     "metadata": {},
     "output_type": "execute_result"
    }
   ],
   "source": [
    "# 子节点\n",
    "html.xpath('//li/a')"
   ]
  },
  {
   "cell_type": "code",
   "execution_count": 22,
   "metadata": {
    "pycharm": {
     "name": "#%%\n"
    }
   },
   "outputs": [
    {
     "data": {
      "text/plain": [
       "['item-4']"
      ]
     },
     "execution_count": 22,
     "metadata": {},
     "output_type": "execute_result"
    }
   ],
   "source": [
    "# 父节点\n",
    "html.xpath('//a[@href=\"link4.html\"]/../@class')"
   ]
  },
  {
   "cell_type": "code",
   "execution_count": 24,
   "metadata": {
    "pycharm": {
     "name": "#%%\n"
    }
   },
   "outputs": [
    {
     "data": {
      "text/plain": [
       "['third item']"
      ]
     },
     "execution_count": 24,
     "metadata": {},
     "output_type": "execute_result"
    }
   ],
   "source": [
    "# 文本选取\n",
    "html.xpath('//li[@class=\"item-2\"]/a/text()')"
   ]
  },
  {
   "cell_type": "code",
   "execution_count": 25,
   "metadata": {
    "pycharm": {
     "name": "#%%\n"
    }
   },
   "outputs": [
    {
     "data": {
      "text/plain": [
       "['link0.html', 'link1.html', 'link2.html', 'link3.html', 'link4.html']"
      ]
     },
     "execution_count": 25,
     "metadata": {},
     "output_type": "execute_result"
    }
   ],
   "source": [
    "# 属性匹配\n",
    "html.xpath('//li/a/@href')"
   ]
  },
  {
   "cell_type": "code",
   "execution_count": 26,
   "metadata": {
    "pycharm": {
     "name": "#%%\n"
    }
   },
   "outputs": [
    {
     "data": {
      "text/plain": [
       "['first item']"
      ]
     },
     "execution_count": 26,
     "metadata": {},
     "output_type": "execute_result"
    }
   ],
   "source": [
    "# 属性多值匹配\n",
    "html.xpath('//li[contains(@class, \"li\")]/a/text()')"
   ]
  },
  {
   "cell_type": "code",
   "execution_count": 29,
   "metadata": {},
   "outputs": [
    {
     "data": {
      "text/plain": [
       "['first item']"
      ]
     },
     "execution_count": 29,
     "metadata": {},
     "output_type": "execute_result"
    }
   ],
   "source": [
    "# 多属性匹配\n",
    "html.xpath('//li[contains(@class, \"li\") and @name=\"item\"]/a/text()')"
   ]
  },
  {
   "cell_type": "code",
   "execution_count": 31,
   "metadata": {},
   "outputs": [
    {
     "data": {
      "text/plain": [
       "['fifth item']"
      ]
     },
     "execution_count": 31,
     "metadata": {},
     "output_type": "execute_result"
    }
   ],
   "source": [
    "# 按序选择\n",
    "html.xpath('//li[1]/a/text()')\n",
    "html.xpath('//li[last()]/a/text()')"
   ]
  },
  {
   "cell_type": "code",
   "execution_count": 32,
   "metadata": {},
   "outputs": [
    {
     "data": {
      "text/plain": [
       "[<Element html at 0x7f22883a5d70>,\n",
       " <Element body at 0x7f22884dbf00>,\n",
       " <Element div at 0x7f22884db960>,\n",
       " <Element ul at 0x7f22884dbeb0>]"
      ]
     },
     "execution_count": 32,
     "metadata": {},
     "output_type": "execute_result"
    }
   ],
   "source": [
    "# 节点轴选取\n",
    "html.xpath('//li[1]/ancestor::*')"
   ]
  },
  {
   "cell_type": "code",
   "execution_count": 33,
   "metadata": {},
   "outputs": [
    {
     "data": {
      "text/plain": [
       "['li item-0', 'item']"
      ]
     },
     "execution_count": 33,
     "metadata": {},
     "output_type": "execute_result"
    }
   ],
   "source": [
    "html.xpath('//li[1]/attribute::*')"
   ]
  },
  {
   "cell_type": "code",
   "execution_count": 34,
   "metadata": {},
   "outputs": [],
   "source": [
    "# Beautiful Soup\n",
    "# 解析器\n",
    "# Python标准库 'html.parser'\n",
    "# html HTML解析器 'lxml'\n",
    "# lxml XML解析器 'xml'\n",
    "# html5lib 'html5lib'"
   ]
  },
  {
   "cell_type": "code",
   "execution_count": 64,
   "metadata": {},
   "outputs": [],
   "source": [
    "bs4_html = \"\"\"\n",
    "    <html><head><title>The story</title></head>\n",
    "    <body>\n",
    "        <p class=\"title\" name=\"dromouse\"><b>The Dormouse's story</b></p>\n",
    "        <p class=\"story\"><a href=\"https://www.python.org\">python</a><p>\n",
    "\"\"\""
   ]
  },
  {
   "cell_type": "code",
   "execution_count": 65,
   "metadata": {},
   "outputs": [
    {
     "name": "stdout",
     "output_type": "stream",
     "text": [
      "<html>\n",
      " <head>\n",
      "  <title>\n",
      "   The story\n",
      "  </title>\n",
      " </head>\n",
      " <body>\n",
      "  <p class=\"title\" name=\"dromouse\">\n",
      "   <b>\n",
      "    The Dormouse's story\n",
      "   </b>\n",
      "  </p>\n",
      "  <p class=\"story\">\n",
      "   <a href=\"https://www.python.org\">\n",
      "    python\n",
      "   </a>\n",
      "  </p>\n",
      "  <p>\n",
      "  </p>\n",
      " </body>\n",
      "</html>\n"
     ]
    }
   ],
   "source": [
    "from bs4 import BeautifulSoup\n",
    "soup = BeautifulSoup(bs4_html, 'lxml')\n",
    "print(soup.prettify())"
   ]
  },
  {
   "cell_type": "code",
   "execution_count": 42,
   "metadata": {},
   "outputs": [
    {
     "data": {
      "text/plain": [
       "<p class=\"title\" name=\"dromouse\"><b>The Dormouse's story</b></p>"
      ]
     },
     "execution_count": 42,
     "metadata": {},
     "output_type": "execute_result"
    }
   ],
   "source": [
    "# 节点选择器\n",
    "soup.title.string\n",
    "soup.head\n",
    "soup.p"
   ]
  },
  {
   "cell_type": "code",
   "execution_count": 46,
   "metadata": {},
   "outputs": [
    {
     "data": {
      "text/plain": [
       "\"The Dormouse's story\""
      ]
     },
     "execution_count": 46,
     "metadata": {},
     "output_type": "execute_result"
    }
   ],
   "source": [
    "# 提取信息\n",
    "soup.title.name\n",
    "# 获取属性\n",
    "soup.p.attrs['name']\n",
    "soup.p['name']\n",
    "soup.p.string"
   ]
  },
  {
   "cell_type": "code",
   "execution_count": 47,
   "metadata": {},
   "outputs": [
    {
     "data": {
      "text/plain": [
       "<title>The story</title>"
      ]
     },
     "execution_count": 47,
     "metadata": {},
     "output_type": "execute_result"
    }
   ],
   "source": [
    "# 嵌套选择\n",
    "soup.head.title"
   ]
  },
  {
   "cell_type": "code",
   "execution_count": 54,
   "metadata": {},
   "outputs": [
    {
     "name": "stdout",
     "output_type": "stream",
     "text": [
      "0 <b>The Dormouse's story</b>\n"
     ]
    }
   ],
   "source": [
    "# 直接子节点\n",
    "soup.p.contents\n",
    "for i, child in enumerate(soup.p.children):\n",
    "    print(i, child)"
   ]
  },
  {
   "cell_type": "code",
   "execution_count": 56,
   "metadata": {},
   "outputs": [
    {
     "name": "stdout",
     "output_type": "stream",
     "text": [
      "0 <b>The Dormouse's story</b>\n",
      "1 The Dormouse's story\n"
     ]
    }
   ],
   "source": [
    "# 所有子孙节点\n",
    "for i, child in enumerate(soup.p.descendants):\n",
    "    print(i, child)"
   ]
  },
  {
   "cell_type": "code",
   "execution_count": 58,
   "metadata": {},
   "outputs": [
    {
     "data": {
      "text/plain": [
       "<body>\n",
       "<p class=\"title\" name=\"dromouse\"><b>The Dormouse's story</b></p>\n",
       "</body>"
      ]
     },
     "execution_count": 58,
     "metadata": {},
     "output_type": "execute_result"
    }
   ],
   "source": [
    "# 父节点\n",
    "soup.p.parent"
   ]
  },
  {
   "cell_type": "code",
   "execution_count": 60,
   "metadata": {},
   "outputs": [
    {
     "data": {
      "text/plain": [
       "[(0, <body>\n",
       "  <p class=\"title\" name=\"dromouse\"><b>The Dormouse's story</b></p>\n",
       "  </body>), (1, <html><head><title>The story</title></head>\n",
       "  <body>\n",
       "  <p class=\"title\" name=\"dromouse\"><b>The Dormouse's story</b></p>\n",
       "  </body></html>), (2, <html><head><title>The story</title></head>\n",
       "  <body>\n",
       "  <p class=\"title\" name=\"dromouse\"><b>The Dormouse's story</b></p>\n",
       "  </body></html>)]"
      ]
     },
     "execution_count": 60,
     "metadata": {},
     "output_type": "execute_result"
    }
   ],
   "source": [
    "# 祖先节点\n",
    "list(enumerate(soup.p.parents))"
   ]
  },
  {
   "cell_type": "code",
   "execution_count": 67,
   "metadata": {},
   "outputs": [
    {
     "data": {
      "text/plain": [
       "'\\n'"
      ]
     },
     "execution_count": 67,
     "metadata": {},
     "output_type": "execute_result"
    }
   ],
   "source": [
    "# 兄弟节点\n",
    "soup.p.next_sibling\n",
    "soup.p.next_sibling\n",
    "soup.p.previous_sibling\n",
    "soup.p.previous_sibling"
   ]
  },
  {
   "cell_type": "code",
   "execution_count": 69,
   "metadata": {},
   "outputs": [
    {
     "data": {
      "text/plain": [
       "['title']"
      ]
     },
     "execution_count": 69,
     "metadata": {},
     "output_type": "execute_result"
    }
   ],
   "source": [
    "# 提取信息\n",
    "soup.p.attrs[\"class\"]"
   ]
  },
  {
   "cell_type": "code",
   "execution_count": 70,
   "metadata": {},
   "outputs": [
    {
     "data": {
      "text/plain": [
       "[<p class=\"title\" name=\"dromouse\"><b>The Dormouse's story</b></p>,\n",
       " <p class=\"story\"><a href=\"https://www.python.org\">python</a></p>,\n",
       " <p>\n",
       " </p>]"
      ]
     },
     "execution_count": 70,
     "metadata": {},
     "output_type": "execute_result"
    }
   ],
   "source": [
    "# 方法选择器\n",
    "soup.find_all(name=\"p\")"
   ]
  },
  {
   "cell_type": "code",
   "execution_count": 71,
   "metadata": {},
   "outputs": [
    {
     "data": {
      "text/plain": [
       "[<p class=\"story\"><a href=\"https://www.python.org\">python</a></p>]"
      ]
     },
     "execution_count": 71,
     "metadata": {},
     "output_type": "execute_result"
    }
   ],
   "source": [
    "soup.find_all(attrs={\"class\": \"story\"})"
   ]
  },
  {
   "cell_type": "code",
   "execution_count": 72,
   "metadata": {},
   "outputs": [
    {
     "data": {
      "text/plain": [
       "['python']"
      ]
     },
     "execution_count": 72,
     "metadata": {},
     "output_type": "execute_result"
    }
   ],
   "source": [
    "import re\n",
    "soup.find_all(text=re.compile(\"python\"))"
   ]
  },
  {
   "cell_type": "code",
   "execution_count": 73,
   "metadata": {},
   "outputs": [
    {
     "data": {
      "text/plain": [
       "<p class=\"title\" name=\"dromouse\"><b>The Dormouse's story</b></p>"
      ]
     },
     "execution_count": 73,
     "metadata": {},
     "output_type": "execute_result"
    }
   ],
   "source": [
    "soup.find(name=\"p\")"
   ]
  },
  {
   "cell_type": "code",
   "execution_count": null,
   "metadata": {},
   "outputs": [],
   "source": [
    "# page 182."
   ]
  }
 ],
 "metadata": {
  "kernelspec": {
   "display_name": "Python 3",
   "language": "python",
   "name": "python3"
  },
  "language_info": {
   "codemirror_mode": {
    "name": "ipython",
    "version": 3
   },
   "file_extension": ".py",
   "mimetype": "text/x-python",
   "name": "python",
   "nbconvert_exporter": "python",
   "pygments_lexer": "ipython3",
   "version": "3.7.5"
  },
  "pycharm": {
   "stem_cell": {
    "cell_type": "raw",
    "metadata": {
     "collapsed": false
    },
    "source": []
   }
  }
 },
 "nbformat": 4,
 "nbformat_minor": 1
}
